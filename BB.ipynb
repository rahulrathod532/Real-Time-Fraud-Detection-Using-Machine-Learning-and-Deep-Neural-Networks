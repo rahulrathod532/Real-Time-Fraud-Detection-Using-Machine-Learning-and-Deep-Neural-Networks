{
 "cells": [
  {
   "cell_type": "code",
   "execution_count": 8,
   "id": "bb210f46-1ec7-42ad-9a29-5023afa10d76",
   "metadata": {},
   "outputs": [],
   "source": [
    "import tkinter as tk\n",
    "import numpy as np\n",
    "import pandas as pd\n",
    "from sklearn.ensemble import RandomForestClassifier\n",
    "from sklearn.model_selection import train_test_split\n",
    "from sklearn.metrics import roc_auc_score, classification_report, confusion_matrix, roc_curve\n"
   ]
  },
  {
   "cell_type": "code",
   "execution_count": 1,
   "id": "b667b46b-b004-4862-b8b9-561862bd3b46",
   "metadata": {},
   "outputs": [],
   "source": [
    "# Assuming you have a dataset named 'X' and 'y'\n",
    "def get_model_results(X_train, y_train, X_test, y_test, model):\n",
    "    model.fit(X_train, y_train)\n",
    "    predicted = model.predict(X_test)\n",
    "    try:\n",
    "        probs = model.predict_proba(X_test)\n",
    "        print('ROC Score:')\n",
    "        print(roc_auc_score(y_test, probs[:,1]))\n",
    "    except AttributeError:\n",
    "        pass\n",
    "    print('\\nClassification Report:')\n",
    "    print(classification_report(y_test, predicted))\n",
    "    print('\\nConfusion Matrix:')\n",
    "    print(confusion_matrix(y_test, predicted))"
   ]
  },
  {
   "cell_type": "code",
   "execution_count": 10,
   "id": "94d7f991-34b7-4a8f-a5bd-e4f47fd8f5c2",
   "metadata": {},
   "outputs": [],
   "source": [
    "# Change the model options\n",
    "model = RandomForestClassifier(bootstrap=True, n_estimators=100, max_depth=10, max_samples=3, criterion='gini', random_state=42)"
   ]
  },
  {
   "cell_type": "code",
   "execution_count": 11,
   "id": "37e1ada8-4803-4dcc-84f7-f97fbec03095",
   "metadata": {},
   "outputs": [],
   "source": [
    "data = pd.read_csv('creditcard_2023.csv')\n",
    "X = data[['Amount']]\n",
    "y = data['Class']"
   ]
  },
  {
   "cell_type": "code",
   "execution_count": 12,
   "id": "4e6c2899-155f-4933-b850-bb5977c30148",
   "metadata": {},
   "outputs": [],
   "source": [
    "# Split the data into training and testing sets\n",
    "X_train, X_test, y_train, y_test = train_test_split(X, y, test_size=0.2, random_state=42)"
   ]
  },
  {
   "cell_type": "code",
   "execution_count": 13,
   "id": "9a41debe-d180-4ad0-b3dd-f270a28f8182",
   "metadata": {},
   "outputs": [
    {
     "name": "stdout",
     "output_type": "stream",
     "text": [
      "ROC Score:\n",
      "0.5045589633845365\n",
      "\n",
      "Classification Report:\n",
      "              precision    recall  f1-score   support\n",
      "\n",
      "           0       0.51      0.25      0.34     56750\n",
      "           1       0.50      0.75      0.60     56976\n",
      "\n",
      "    accuracy                           0.50    113726\n",
      "   macro avg       0.50      0.50      0.47    113726\n",
      "weighted avg       0.50      0.50      0.47    113726\n",
      "\n",
      "\n",
      "Confusion Matrix:\n",
      "[[14343 42407]\n",
      " [14017 42959]]\n"
     ]
    }
   ],
   "source": [
    "# Train the model\n",
    "get_model_results(X_train, y_train, X_test, y_test, model)"
   ]
  },
  {
   "cell_type": "code",
   "execution_count": 20,
   "id": "5ca054e9-0719-4ba8-a86b-3590b8824722",
   "metadata": {},
   "outputs": [],
   "source": [
    "import tkinter as tk\n",
    "from tkinter import ttk\n",
    "\n"
   ]
  },
  {
   "cell_type": "code",
   "execution_count": 23,
   "id": "bf9a3d8f-b93c-48a8-8e30-6b2ff1cdc47d",
   "metadata": {},
   "outputs": [],
   "source": [
    "class FraudDetectionApp:\n",
    "    def __init__(self, master):\n",
    "        self.master = master\n",
    "        self.master.title(\"Real-time Fraud Detection\")\n",
    "\n",
    "        self.amount_var = tk.StringVar()\n",
    "        self.result_var = tk.StringVar()\n",
    "\n",
    "        ttk.Label(master, text=\"Enter transaction amount:\").grid(row=0, column=0, padx=5, pady=5, sticky=\"w\")\n",
    "        ttk.Entry(master, width=10, textvariable=self.amount_var).grid(row=0, column=1, padx=5, pady=5, sticky=\"w\")\n",
    "\n",
    "        ttk.Label(master, textvariable=self.result_var, foreground=self.result_var.get()).grid(row=1, column=0, columnspan=2, padx=5, pady=5)\n",
    "\n",
    "        ttk.Button(master, text=\"Check Transaction\", command=self.check_transaction).grid(row=2, column=0, columnspan=2, padx=5, pady=5)\n"
   ]
  },
  {
   "cell_type": "code",
   "execution_count": 24,
   "id": "97e827d5-f5f5-45ef-b0db-1ef301f84ef2",
   "metadata": {},
   "outputs": [
    {
     "ename": "AttributeError",
     "evalue": "'FraudDetectionApp' object has no attribute 'check_transaction'",
     "output_type": "error",
     "traceback": [
      "\u001b[1;31m---------------------------------------------------------------------------\u001b[0m",
      "\u001b[1;31mAttributeError\u001b[0m                            Traceback (most recent call last)",
      "Cell \u001b[1;32mIn[24], line 10\u001b[0m\n\u001b[0;32m      7\u001b[0m         \u001b[38;5;28mself\u001b[39m\u001b[38;5;241m.\u001b[39mresult_var\u001b[38;5;241m.\u001b[39mset(\u001b[38;5;124m\"\u001b[39m\u001b[38;5;124mYour result here\u001b[39m\u001b[38;5;124m\"\u001b[39m)\n\u001b[0;32m      9\u001b[0m root \u001b[38;5;241m=\u001b[39m tk\u001b[38;5;241m.\u001b[39mTk()\n\u001b[1;32m---> 10\u001b[0m app \u001b[38;5;241m=\u001b[39m \u001b[43mFraudDetectionApp\u001b[49m\u001b[43m(\u001b[49m\u001b[43mroot\u001b[49m\u001b[43m)\u001b[49m\n\u001b[0;32m     11\u001b[0m root\u001b[38;5;241m.\u001b[39mmainloop()\n",
      "Cell \u001b[1;32mIn[23], line 14\u001b[0m, in \u001b[0;36mFraudDetectionApp.__init__\u001b[1;34m(self, master)\u001b[0m\n\u001b[0;32m     10\u001b[0m ttk\u001b[38;5;241m.\u001b[39mEntry(master, width\u001b[38;5;241m=\u001b[39m\u001b[38;5;241m10\u001b[39m, textvariable\u001b[38;5;241m=\u001b[39m\u001b[38;5;28mself\u001b[39m\u001b[38;5;241m.\u001b[39mamount_var)\u001b[38;5;241m.\u001b[39mgrid(row\u001b[38;5;241m=\u001b[39m\u001b[38;5;241m0\u001b[39m, column\u001b[38;5;241m=\u001b[39m\u001b[38;5;241m1\u001b[39m, padx\u001b[38;5;241m=\u001b[39m\u001b[38;5;241m5\u001b[39m, pady\u001b[38;5;241m=\u001b[39m\u001b[38;5;241m5\u001b[39m, sticky\u001b[38;5;241m=\u001b[39m\u001b[38;5;124m\"\u001b[39m\u001b[38;5;124mw\u001b[39m\u001b[38;5;124m\"\u001b[39m)\n\u001b[0;32m     12\u001b[0m ttk\u001b[38;5;241m.\u001b[39mLabel(master, textvariable\u001b[38;5;241m=\u001b[39m\u001b[38;5;28mself\u001b[39m\u001b[38;5;241m.\u001b[39mresult_var, foreground\u001b[38;5;241m=\u001b[39m\u001b[38;5;28mself\u001b[39m\u001b[38;5;241m.\u001b[39mresult_var\u001b[38;5;241m.\u001b[39mget())\u001b[38;5;241m.\u001b[39mgrid(row\u001b[38;5;241m=\u001b[39m\u001b[38;5;241m1\u001b[39m, column\u001b[38;5;241m=\u001b[39m\u001b[38;5;241m0\u001b[39m, columnspan\u001b[38;5;241m=\u001b[39m\u001b[38;5;241m2\u001b[39m, padx\u001b[38;5;241m=\u001b[39m\u001b[38;5;241m5\u001b[39m, pady\u001b[38;5;241m=\u001b[39m\u001b[38;5;241m5\u001b[39m)\n\u001b[1;32m---> 14\u001b[0m ttk\u001b[38;5;241m.\u001b[39mButton(master, text\u001b[38;5;241m=\u001b[39m\u001b[38;5;124m\"\u001b[39m\u001b[38;5;124mCheck Transaction\u001b[39m\u001b[38;5;124m\"\u001b[39m, command\u001b[38;5;241m=\u001b[39m\u001b[38;5;28;43mself\u001b[39;49m\u001b[38;5;241;43m.\u001b[39;49m\u001b[43mcheck_transaction\u001b[49m)\u001b[38;5;241m.\u001b[39mgrid(row\u001b[38;5;241m=\u001b[39m\u001b[38;5;241m2\u001b[39m, column\u001b[38;5;241m=\u001b[39m\u001b[38;5;241m0\u001b[39m, columnspan\u001b[38;5;241m=\u001b[39m\u001b[38;5;241m2\u001b[39m, padx\u001b[38;5;241m=\u001b[39m\u001b[38;5;241m5\u001b[39m, pady\u001b[38;5;241m=\u001b[39m\u001b[38;5;241m5\u001b[39m)\n",
      "\u001b[1;31mAttributeError\u001b[0m: 'FraudDetectionApp' object has no attribute 'check_transaction'"
     ]
    }
   ],
   "source": [
    "def check_transaction(self):\n",
    "        amount = self.amount_var.get()\n",
    "        # Perform the fraud detection check here\n",
    "        # ...\n",
    "\n",
    "        # Set the result_var with the result\n",
    "        self.result_var.set(\"Your result here\")\n",
    "\n",
    "root = tk.Tk()\n",
    "app = FraudDetectionApp(root)\n",
    "root.mainloop()"
   ]
  },
  {
   "cell_type": "code",
   "execution_count": null,
   "id": "5c9f55a5-a6e0-4efd-9dae-4b7cc131704c",
   "metadata": {},
   "outputs": [],
   "source": []
  }
 ],
 "metadata": {
  "kernelspec": {
   "display_name": "Python 3 (ipykernel)",
   "language": "python",
   "name": "python3"
  },
  "language_info": {
   "codemirror_mode": {
    "name": "ipython",
    "version": 3
   },
   "file_extension": ".py",
   "mimetype": "text/x-python",
   "name": "python",
   "nbconvert_exporter": "python",
   "pygments_lexer": "ipython3",
   "version": "3.10.0"
  }
 },
 "nbformat": 4,
 "nbformat_minor": 5
}
